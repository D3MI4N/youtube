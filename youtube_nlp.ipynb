{
 "cells": [
  {
   "cell_type": "code",
   "execution_count": 1,
   "metadata": {},
   "outputs": [],
   "source": [
    "%matplotlib inline\n",
    "import re\n",
    "import matplotlib\n",
    "import numpy as np\n",
    "import matplotlib.pyplot as plt\n",
    "import pandas as pd\n",
    "import seaborn as sns"
   ]
  },
  {
   "cell_type": "code",
   "execution_count": 2,
   "metadata": {},
   "outputs": [],
   "source": [
    "pd.options.display.max_colwidth = 100"
   ]
  },
  {
   "cell_type": "code",
   "execution_count": 3,
   "metadata": {},
   "outputs": [],
   "source": [
    "df = pd.read_csv('compounds.csv',header = None)"
   ]
  },
  {
   "cell_type": "code",
   "execution_count": 4,
   "metadata": {},
   "outputs": [],
   "source": [
    "view_stats = df.iloc[0,:]"
   ]
  },
  {
   "cell_type": "code",
   "execution_count": 5,
   "metadata": {},
   "outputs": [
    {
     "name": "stdout",
     "output_type": "stream",
     "text": [
      "so we have 13398 view counts, 885.0 likes, 12 dislikes. \n"
     ]
    }
   ],
   "source": [
    "print(\"so we have \" + str(view_stats[0]) +\" view counts, \"+str(view_stats[1])+\" likes, \"+str(view_stats[2])+\" dislikes. \")"
   ]
  },
  {
   "cell_type": "markdown",
   "metadata": {},
   "source": [
    "We can also try to see how it looks like by creating a pie-chart"
   ]
  },
  {
   "cell_type": "code",
   "execution_count": 6,
   "metadata": {},
   "outputs": [
    {
     "name": "stdout",
     "output_type": "stream",
     "text": [
      "High five! You successfully sent some data to your account on plotly. View your plot in your browser at https://plot.ly/~spotify_junkie/0 or inside your plot.ly account where it is named 'basic_pie_chart'\n"
     ]
    },
    {
     "data": {
      "text/html": [
       "<iframe id=\"igraph\" scrolling=\"no\" style=\"border:none;\" seamless=\"seamless\" src=\"https://plot.ly/~spotify_junkie/0.embed\" height=\"525px\" width=\"100%\"></iframe>"
      ],
      "text/plain": [
       "<plotly.tools.PlotlyDisplay object>"
      ]
     },
     "execution_count": 6,
     "metadata": {},
     "output_type": "execute_result"
    }
   ],
   "source": [
    "import plotly.plotly as py\n",
    "import plotly.graph_objs as go\n",
    "\n",
    "labels = ['Likecout','Dislikecount']\n",
    "values = [view_stats[1],view_stats[2]]\n",
    "\n",
    "trace = go.Pie(labels=labels, values=values)\n",
    "\n",
    "py.iplot([trace], filename='basic_pie_chart')"
   ]
  },
  {
   "cell_type": "markdown",
   "metadata": {},
   "source": [
    "So the cahrt above can present **visualisation** of how likeable our video is."
   ]
  },
  {
   "cell_type": "code",
   "execution_count": 7,
   "metadata": {},
   "outputs": [],
   "source": [
    "df = df.drop(index = 0)\n"
   ]
  },
  {
   "cell_type": "code",
   "execution_count": 8,
   "metadata": {},
   "outputs": [],
   "source": [
    "df = df.rename(columns = {0:'text',1:'score',2:'likecount'})"
   ]
  },
  {
   "cell_type": "code",
   "execution_count": 9,
   "metadata": {},
   "outputs": [],
   "source": [
    "df = df.reset_index(drop = True)"
   ]
  },
  {
   "cell_type": "code",
   "execution_count": 10,
   "metadata": {},
   "outputs": [],
   "source": [
    "def Clean_Text(text):\n",
    "    \"\"\"\n",
    "    text: input for the text\n",
    "    Disclaimer:\n",
    "    This is a ongoing cleaning function\n",
    "    \"\"\"\n",
    "\n",
    "    text = text.lower()\n",
    "    text = re.sub(r\"what's\", \"what is \", text)\n",
    "    text = re.sub(r\"\\'s\", \" \", text)\n",
    "    text = re.sub(r\"\\'ve\", \" have \", text)\n",
    "    text = re.sub(r\"can't\", \"can not \", text)\n",
    "    text = re.sub(r\"n't\", \" not \", text)\n",
    "    text = re.sub(r\"i'm\", \"i am \", text)\n",
    "    text = re.sub(r\"he's\",\"he is \",text)\n",
    "    text = re.sub(r\"she's\",\"she is \",text)\n",
    "    text = re.sub(r\"\\'re\", \" are \", text)\n",
    "    text = re.sub(r\"\\'d\", \" would \", text)\n",
    "    text = re.sub(r\"\\'ll\", \" will \", text)\n",
    "    text = re.sub(r\"\\'scuse\", \" excuse \", text)\n",
    "    text = re.sub('\\W', ' ', text)\n",
    "    text = re.sub('\\s+', ' ', text)\n",
    "    text = re.sub(r'[^\\w\\s]','',text)\n",
    "    text = text.strip(' ')\n",
    "    return text\n"
   ]
  },
  {
   "cell_type": "code",
   "execution_count": 11,
   "metadata": {},
   "outputs": [],
   "source": [
    "df['clean_text'] = df['text'].map(lambda com:Clean_Text(com))"
   ]
  },
  {
   "cell_type": "code",
   "execution_count": 12,
   "metadata": {
    "scrolled": true
   },
   "outputs": [
    {
     "data": {
      "text/html": [
       "<div>\n",
       "<style scoped>\n",
       "    .dataframe tbody tr th:only-of-type {\n",
       "        vertical-align: middle;\n",
       "    }\n",
       "\n",
       "    .dataframe tbody tr th {\n",
       "        vertical-align: top;\n",
       "    }\n",
       "\n",
       "    .dataframe thead th {\n",
       "        text-align: right;\n",
       "    }\n",
       "</style>\n",
       "<table border=\"1\" class=\"dataframe\">\n",
       "  <thead>\n",
       "    <tr style=\"text-align: right;\">\n",
       "      <th></th>\n",
       "      <th>text</th>\n",
       "      <th>score</th>\n",
       "      <th>likecount</th>\n",
       "      <th>clean_text</th>\n",
       "    </tr>\n",
       "  </thead>\n",
       "  <tbody>\n",
       "    <tr>\n",
       "      <th>0</th>\n",
       "      <td>Your voice just give me chills. Keep up the good content. Kiss from Portugal</td>\n",
       "      <td>0.6908</td>\n",
       "      <td>0</td>\n",
       "      <td>your voice just give me chills keep up the good content kiss from portugal</td>\n",
       "    </tr>\n",
       "    <tr>\n",
       "      <th>1</th>\n",
       "      <td>in the next video you have to play the acoustic guitar in the back corner!</td>\n",
       "      <td>0.4003</td>\n",
       "      <td>1</td>\n",
       "      <td>in the next video you have to play the acoustic guitar in the back corner</td>\n",
       "    </tr>\n",
       "    <tr>\n",
       "      <th>2</th>\n",
       "      <td>it was berrylemon mayuko😂</td>\n",
       "      <td>0.0000</td>\n",
       "      <td>0</td>\n",
       "      <td>it was berrylemon mayuko</td>\n",
       "    </tr>\n",
       "    <tr>\n",
       "      <th>3</th>\n",
       "      <td>Mayuko can get book please I like your channel please</td>\n",
       "      <td>0.7269</td>\n",
       "      <td>0</td>\n",
       "      <td>mayuko can get book please i like your channel please</td>\n",
       "    </tr>\n",
       "    <tr>\n",
       "      <th>4</th>\n",
       "      <td>\"Read documentation for fun, like do people even do that?\" Really, DO PEOPLE EVEN DO THAT?</td>\n",
       "      <td>0.7319</td>\n",
       "      <td>1</td>\n",
       "      <td>read documentation for fun like do people even do that really do people even do that</td>\n",
       "    </tr>\n",
       "    <tr>\n",
       "      <th>5</th>\n",
       "      <td>Hi Mayuko, Thanks for the tips. i got a job a software engineering jobs because of your suggesti...</td>\n",
       "      <td>0.8689</td>\n",
       "      <td>0</td>\n",
       "      <td>hi mayuko thanks for the tips i got a job a software engineering jobs because of your suggestion...</td>\n",
       "    </tr>\n",
       "    <tr>\n",
       "      <th>6</th>\n",
       "      <td>Really appreciate your videos:) Every time I watch your video it gives me inspiration to be what...</td>\n",
       "      <td>0.9450</td>\n",
       "      <td>1</td>\n",
       "      <td>really appreciate your videos every time i watch your video it gives me inspiration to be what i...</td>\n",
       "    </tr>\n",
       "    <tr>\n",
       "      <th>7</th>\n",
       "      <td>I can't take it anymore, I don't even have OCD but that intro with the generic typing noise and ...</td>\n",
       "      <td>0.7684</td>\n",
       "      <td>0</td>\n",
       "      <td>i can not take it anymore i do not even have ocd but that intro with the generic typing noise an...</td>\n",
       "    </tr>\n",
       "    <tr>\n",
       "      <th>8</th>\n",
       "      <td>Hi Mayuko! Thank you so much for the plug and share! Congratulations again on your marriage =) =)</td>\n",
       "      <td>0.9391</td>\n",
       "      <td>3</td>\n",
       "      <td>hi mayuko thank you so much for the plug and share congratulations again on your marriage</td>\n",
       "    </tr>\n",
       "    <tr>\n",
       "      <th>9</th>\n",
       "      <td>Could you get a job in software engineering if you practiced yourself and didnt go to school for...</td>\n",
       "      <td>0.0000</td>\n",
       "      <td>0</td>\n",
       "      <td>could you get a job in software engineering if you practiced yourself and didnt go to school for...</td>\n",
       "    </tr>\n",
       "  </tbody>\n",
       "</table>\n",
       "</div>"
      ],
      "text/plain": [
       "                                                                                                  text  \\\n",
       "0                         Your voice just give me chills. Keep up the good content. Kiss from Portugal   \n",
       "1                           in the next video you have to play the acoustic guitar in the back corner!   \n",
       "2                                                                            it was berrylemon mayuko😂   \n",
       "3                                                Mayuko can get book please I like your channel please   \n",
       "4           \"Read documentation for fun, like do people even do that?\" Really, DO PEOPLE EVEN DO THAT?   \n",
       "5  Hi Mayuko, Thanks for the tips. i got a job a software engineering jobs because of your suggesti...   \n",
       "6  Really appreciate your videos:) Every time I watch your video it gives me inspiration to be what...   \n",
       "7  I can't take it anymore, I don't even have OCD but that intro with the generic typing noise and ...   \n",
       "8    Hi Mayuko! Thank you so much for the plug and share! Congratulations again on your marriage =) =)   \n",
       "9  Could you get a job in software engineering if you practiced yourself and didnt go to school for...   \n",
       "\n",
       "    score  likecount  \\\n",
       "0  0.6908          0   \n",
       "1  0.4003          1   \n",
       "2  0.0000          0   \n",
       "3  0.7269          0   \n",
       "4  0.7319          1   \n",
       "5  0.8689          0   \n",
       "6  0.9450          1   \n",
       "7  0.7684          0   \n",
       "8  0.9391          3   \n",
       "9  0.0000          0   \n",
       "\n",
       "                                                                                            clean_text  \n",
       "0                           your voice just give me chills keep up the good content kiss from portugal  \n",
       "1                            in the next video you have to play the acoustic guitar in the back corner  \n",
       "2                                                                             it was berrylemon mayuko  \n",
       "3                                                mayuko can get book please i like your channel please  \n",
       "4                 read documentation for fun like do people even do that really do people even do that  \n",
       "5  hi mayuko thanks for the tips i got a job a software engineering jobs because of your suggestion...  \n",
       "6  really appreciate your videos every time i watch your video it gives me inspiration to be what i...  \n",
       "7  i can not take it anymore i do not even have ocd but that intro with the generic typing noise an...  \n",
       "8            hi mayuko thank you so much for the plug and share congratulations again on your marriage  \n",
       "9  could you get a job in software engineering if you practiced yourself and didnt go to school for...  "
      ]
     },
     "execution_count": 12,
     "metadata": {},
     "output_type": "execute_result"
    }
   ],
   "source": [
    "df.head(10)\n"
   ]
  },
  {
   "cell_type": "markdown",
   "metadata": {},
   "source": [
    "So now since we have `cleaned text`, we are going to try use NLTK again to see the new score."
   ]
  },
  {
   "cell_type": "code",
   "execution_count": 13,
   "metadata": {},
   "outputs": [],
   "source": [
    "from nltk.sentiment.vader import SentimentIntensityAnalyzer as sid\n",
    "sid = sid()\n",
    "df['clean_text_score'] = df['clean_text'].map(lambda com:sid.polarity_scores(com)['compound'])"
   ]
  },
  {
   "cell_type": "code",
   "execution_count": 14,
   "metadata": {},
   "outputs": [
    {
     "data": {
      "text/html": [
       "<div>\n",
       "<style scoped>\n",
       "    .dataframe tbody tr th:only-of-type {\n",
       "        vertical-align: middle;\n",
       "    }\n",
       "\n",
       "    .dataframe tbody tr th {\n",
       "        vertical-align: top;\n",
       "    }\n",
       "\n",
       "    .dataframe thead th {\n",
       "        text-align: right;\n",
       "    }\n",
       "</style>\n",
       "<table border=\"1\" class=\"dataframe\">\n",
       "  <thead>\n",
       "    <tr style=\"text-align: right;\">\n",
       "      <th></th>\n",
       "      <th>text</th>\n",
       "      <th>score</th>\n",
       "      <th>likecount</th>\n",
       "      <th>clean_text</th>\n",
       "      <th>clean_text_score</th>\n",
       "    </tr>\n",
       "  </thead>\n",
       "  <tbody>\n",
       "    <tr>\n",
       "      <th>0</th>\n",
       "      <td>Your voice just give me chills. Keep up the good content. Kiss from Portugal</td>\n",
       "      <td>0.6908</td>\n",
       "      <td>0</td>\n",
       "      <td>your voice just give me chills keep up the good content kiss from portugal</td>\n",
       "      <td>0.6908</td>\n",
       "    </tr>\n",
       "    <tr>\n",
       "      <th>1</th>\n",
       "      <td>in the next video you have to play the acoustic guitar in the back corner!</td>\n",
       "      <td>0.4003</td>\n",
       "      <td>1</td>\n",
       "      <td>in the next video you have to play the acoustic guitar in the back corner</td>\n",
       "      <td>0.3400</td>\n",
       "    </tr>\n",
       "    <tr>\n",
       "      <th>2</th>\n",
       "      <td>it was berrylemon mayuko😂</td>\n",
       "      <td>0.0000</td>\n",
       "      <td>0</td>\n",
       "      <td>it was berrylemon mayuko</td>\n",
       "      <td>0.0000</td>\n",
       "    </tr>\n",
       "  </tbody>\n",
       "</table>\n",
       "</div>"
      ],
      "text/plain": [
       "                                                                           text  \\\n",
       "0  Your voice just give me chills. Keep up the good content. Kiss from Portugal   \n",
       "1    in the next video you have to play the acoustic guitar in the back corner!   \n",
       "2                                                     it was berrylemon mayuko😂   \n",
       "\n",
       "    score  likecount  \\\n",
       "0  0.6908          0   \n",
       "1  0.4003          1   \n",
       "2  0.0000          0   \n",
       "\n",
       "                                                                   clean_text  \\\n",
       "0  your voice just give me chills keep up the good content kiss from portugal   \n",
       "1   in the next video you have to play the acoustic guitar in the back corner   \n",
       "2                                                    it was berrylemon mayuko   \n",
       "\n",
       "   clean_text_score  \n",
       "0            0.6908  \n",
       "1            0.3400  \n",
       "2            0.0000  "
      ]
     },
     "execution_count": 14,
     "metadata": {},
     "output_type": "execute_result"
    }
   ],
   "source": [
    "df.head(3)"
   ]
  },
  {
   "cell_type": "markdown",
   "metadata": {},
   "source": [
    "What comments is the most likeable one ? And what's the score it get from the `polarity_scores` function ? "
   ]
  },
  {
   "cell_type": "code",
   "execution_count": 15,
   "metadata": {},
   "outputs": [],
   "source": [
    "df_like_ranking = df.sort_values('likecount',ascending = False)"
   ]
  },
  {
   "cell_type": "code",
   "execution_count": 16,
   "metadata": {},
   "outputs": [
    {
     "data": {
      "text/html": [
       "<div>\n",
       "<style scoped>\n",
       "    .dataframe tbody tr th:only-of-type {\n",
       "        vertical-align: middle;\n",
       "    }\n",
       "\n",
       "    .dataframe tbody tr th {\n",
       "        vertical-align: top;\n",
       "    }\n",
       "\n",
       "    .dataframe thead th {\n",
       "        text-align: right;\n",
       "    }\n",
       "</style>\n",
       "<table border=\"1\" class=\"dataframe\">\n",
       "  <thead>\n",
       "    <tr style=\"text-align: right;\">\n",
       "      <th></th>\n",
       "      <th>text</th>\n",
       "      <th>score</th>\n",
       "      <th>likecount</th>\n",
       "      <th>clean_text</th>\n",
       "      <th>clean_text_score</th>\n",
       "    </tr>\n",
       "  </thead>\n",
       "  <tbody>\n",
       "    <tr>\n",
       "      <th>67</th>\n",
       "      <td>CONGRATS ON NEWLYWED LIFE!!!! wishing nothing but the best for you and the hubby 💞</td>\n",
       "      <td>-0.5724</td>\n",
       "      <td>26</td>\n",
       "      <td>congrats on newlywed life wishing nothing but the best for you and the hubby</td>\n",
       "      <td>-0.4408</td>\n",
       "    </tr>\n",
       "    <tr>\n",
       "      <th>44</th>\n",
       "      <td>I don't know if it's possible for me to believe that she had a bad GPA in college</td>\n",
       "      <td>-0.5423</td>\n",
       "      <td>8</td>\n",
       "      <td>i do not know if it possible for me to believe that she had a bad gpa in college</td>\n",
       "      <td>-0.5423</td>\n",
       "    </tr>\n",
       "    <tr>\n",
       "      <th>73</th>\n",
       "      <td>Thanks for answering my question, you're amazing! :D</td>\n",
       "      <td>0.9006</td>\n",
       "      <td>6</td>\n",
       "      <td>thanks for answering my question you are amazing d</td>\n",
       "      <td>0.7717</td>\n",
       "    </tr>\n",
       "    <tr>\n",
       "      <th>77</th>\n",
       "      <td>From first comments!!                  We miss you so much mayuko!!🤗\\nWELCOME BACK!! 😉😉😉</td>\n",
       "      <td>0.6772</td>\n",
       "      <td>5</td>\n",
       "      <td>from first comments we miss you so much mayuko welcome back</td>\n",
       "      <td>0.3947</td>\n",
       "    </tr>\n",
       "    <tr>\n",
       "      <th>65</th>\n",
       "      <td>The Design of Everyday Things!! I've been reading that book. It's a good one! 😁</td>\n",
       "      <td>0.5826</td>\n",
       "      <td>4</td>\n",
       "      <td>the design of everyday things i have been reading that book it a good one</td>\n",
       "      <td>0.4404</td>\n",
       "    </tr>\n",
       "    <tr>\n",
       "      <th>8</th>\n",
       "      <td>Hi Mayuko! Thank you so much for the plug and share! Congratulations again on your marriage =) =)</td>\n",
       "      <td>0.9391</td>\n",
       "      <td>3</td>\n",
       "      <td>hi mayuko thank you so much for the plug and share congratulations again on your marriage</td>\n",
       "      <td>0.8225</td>\n",
       "    </tr>\n",
       "    <tr>\n",
       "      <th>54</th>\n",
       "      <td>Tengo 20 años y actualmente estoy estudiando ingeniería en sistemas computacionales, tengo una p...</td>\n",
       "      <td>0.0000</td>\n",
       "      <td>3</td>\n",
       "      <td>tengo 20 años y actualmente estoy estudiando ingeniería en sistemas computacionales tengo una pr...</td>\n",
       "      <td>0.0000</td>\n",
       "    </tr>\n",
       "    <tr>\n",
       "      <th>83</th>\n",
       "      <td>I miss you so much mayuko 😙</td>\n",
       "      <td>-0.1531</td>\n",
       "      <td>2</td>\n",
       "      <td>i miss you so much mayuko</td>\n",
       "      <td>-0.1531</td>\n",
       "    </tr>\n",
       "    <tr>\n",
       "      <th>22</th>\n",
       "      <td>ayyy my man dave xiang</td>\n",
       "      <td>0.0000</td>\n",
       "      <td>2</td>\n",
       "      <td>ayyy my man dave xiang</td>\n",
       "      <td>0.0000</td>\n",
       "    </tr>\n",
       "    <tr>\n",
       "      <th>1</th>\n",
       "      <td>in the next video you have to play the acoustic guitar in the back corner!</td>\n",
       "      <td>0.4003</td>\n",
       "      <td>1</td>\n",
       "      <td>in the next video you have to play the acoustic guitar in the back corner</td>\n",
       "      <td>0.3400</td>\n",
       "    </tr>\n",
       "  </tbody>\n",
       "</table>\n",
       "</div>"
      ],
      "text/plain": [
       "                                                                                                   text  \\\n",
       "67                   CONGRATS ON NEWLYWED LIFE!!!! wishing nothing but the best for you and the hubby 💞   \n",
       "44                    I don't know if it's possible for me to believe that she had a bad GPA in college   \n",
       "73                                                 Thanks for answering my question, you're amazing! :D   \n",
       "77             From first comments!!                  We miss you so much mayuko!!🤗\\nWELCOME BACK!! 😉😉😉   \n",
       "65                      The Design of Everyday Things!! I've been reading that book. It's a good one! 😁   \n",
       "8     Hi Mayuko! Thank you so much for the plug and share! Congratulations again on your marriage =) =)   \n",
       "54  Tengo 20 años y actualmente estoy estudiando ingeniería en sistemas computacionales, tengo una p...   \n",
       "83                                                                          I miss you so much mayuko 😙   \n",
       "22                                                                               ayyy my man dave xiang   \n",
       "1                            in the next video you have to play the acoustic guitar in the back corner!   \n",
       "\n",
       "     score  likecount  \\\n",
       "67 -0.5724         26   \n",
       "44 -0.5423          8   \n",
       "73  0.9006          6   \n",
       "77  0.6772          5   \n",
       "65  0.5826          4   \n",
       "8   0.9391          3   \n",
       "54  0.0000          3   \n",
       "83 -0.1531          2   \n",
       "22  0.0000          2   \n",
       "1   0.4003          1   \n",
       "\n",
       "                                                                                             clean_text  \\\n",
       "67                         congrats on newlywed life wishing nothing but the best for you and the hubby   \n",
       "44                     i do not know if it possible for me to believe that she had a bad gpa in college   \n",
       "73                                                   thanks for answering my question you are amazing d   \n",
       "77                                          from first comments we miss you so much mayuko welcome back   \n",
       "65                            the design of everyday things i have been reading that book it a good one   \n",
       "8             hi mayuko thank you so much for the plug and share congratulations again on your marriage   \n",
       "54  tengo 20 años y actualmente estoy estudiando ingeniería en sistemas computacionales tengo una pr...   \n",
       "83                                                                            i miss you so much mayuko   \n",
       "22                                                                               ayyy my man dave xiang   \n",
       "1                             in the next video you have to play the acoustic guitar in the back corner   \n",
       "\n",
       "    clean_text_score  \n",
       "67           -0.4408  \n",
       "44           -0.5423  \n",
       "73            0.7717  \n",
       "77            0.3947  \n",
       "65            0.4404  \n",
       "8             0.8225  \n",
       "54            0.0000  \n",
       "83           -0.1531  \n",
       "22            0.0000  \n",
       "1             0.3400  "
      ]
     },
     "execution_count": 16,
     "metadata": {},
     "output_type": "execute_result"
    }
   ],
   "source": [
    "df_like_ranking.head(10)"
   ]
  },
  {
   "cell_type": "markdown",
   "metadata": {},
   "source": [
    "If you wanna know **all** the likecount in a decending order ,just remove the `#` in the next chuck and it will show you the result."
   ]
  },
  {
   "cell_type": "code",
   "execution_count": 17,
   "metadata": {},
   "outputs": [],
   "source": [
    "#df_like_ranking"
   ]
  },
  {
   "cell_type": "markdown",
   "metadata": {},
   "source": [
    "Of course the `polaity_scores` function itself can have some issues on giving score to the online comments ,some of them contains\n",
    "**sarcasm and slang** , those together all cause the fucntion to pick up and give scores. So for this, it's really important to see the **intersection of the most likeable and the highest score**."
   ]
  },
  {
   "cell_type": "code",
   "execution_count": 18,
   "metadata": {},
   "outputs": [
    {
     "name": "stdout",
     "output_type": "stream",
     "text": [
      "<class 'pandas.core.frame.DataFrame'>\n",
      "RangeIndex: 84 entries, 0 to 83\n",
      "Data columns (total 5 columns):\n",
      "text                84 non-null object\n",
      "score               84 non-null float64\n",
      "likecount           84 non-null int64\n",
      "clean_text          84 non-null object\n",
      "clean_text_score    84 non-null float64\n",
      "dtypes: float64(2), int64(1), object(2)\n",
      "memory usage: 3.4+ KB\n"
     ]
    }
   ],
   "source": [
    "df.info()"
   ]
  },
  {
   "cell_type": "code",
   "execution_count": 19,
   "metadata": {},
   "outputs": [],
   "source": [
    "def pick_up_comments(data,score,threshold):\n",
    "    \"\"\"\n",
    "    This function take three inputs:\n",
    "    - data :dataframe\n",
    "    - score : score you wannt to examine,input requires to be in [-1,1]. For negative numbers it will run scores no greater than the input,for positve\n",
    "        numbers it will find scores no smaller than the input.\n",
    "    - likecount : postive interger input required.\n",
    "    \n",
    "    \"\"\"\n",
    "    \n",
    "    if score > 0:\n",
    "        df =  data.loc[(df_like_ranking[\"clean_text_score\"] >= score) & (df_like_ranking[\"likecount\"] >= threshold)].sort_values(['likecount', 'score'],ascending=[False, False])\n",
    "        return df\n",
    "    elif score <= 0:\n",
    "        df =  data.loc[(df_like_ranking[\"clean_text_score\"] <= score) & (df_like_ranking[\"likecount\"] >= threshold)].sort_values(['likecount', 'score'],ascending=[False, True])\n",
    "        return df\n",
    "              "
   ]
  },
  {
   "cell_type": "markdown",
   "metadata": {},
   "source": [
    "----"
   ]
  },
  {
   "cell_type": "markdown",
   "metadata": {},
   "source": [
    "Here is just a part we are going to use the function to see how the `clean_text_score` interact with likecount.\n",
    "You can change the number for your own analysis."
   ]
  },
  {
   "cell_type": "code",
   "execution_count": 20,
   "metadata": {},
   "outputs": [
    {
     "data": {
      "text/html": [
       "<div>\n",
       "<style scoped>\n",
       "    .dataframe tbody tr th:only-of-type {\n",
       "        vertical-align: middle;\n",
       "    }\n",
       "\n",
       "    .dataframe tbody tr th {\n",
       "        vertical-align: top;\n",
       "    }\n",
       "\n",
       "    .dataframe thead th {\n",
       "        text-align: right;\n",
       "    }\n",
       "</style>\n",
       "<table border=\"1\" class=\"dataframe\">\n",
       "  <thead>\n",
       "    <tr style=\"text-align: right;\">\n",
       "      <th></th>\n",
       "      <th>text</th>\n",
       "      <th>score</th>\n",
       "      <th>likecount</th>\n",
       "      <th>clean_text</th>\n",
       "      <th>clean_text_score</th>\n",
       "    </tr>\n",
       "  </thead>\n",
       "  <tbody>\n",
       "  </tbody>\n",
       "</table>\n",
       "</div>"
      ],
      "text/plain": [
       "Empty DataFrame\n",
       "Columns: [text, score, likecount, clean_text, clean_text_score]\n",
       "Index: []"
      ]
     },
     "execution_count": 20,
     "metadata": {},
     "output_type": "execute_result"
    }
   ],
   "source": [
    "pick_up_comments(df_like_ranking,0.8,50)"
   ]
  },
  {
   "cell_type": "code",
   "execution_count": 21,
   "metadata": {},
   "outputs": [
    {
     "data": {
      "text/html": [
       "<div>\n",
       "<style scoped>\n",
       "    .dataframe tbody tr th:only-of-type {\n",
       "        vertical-align: middle;\n",
       "    }\n",
       "\n",
       "    .dataframe tbody tr th {\n",
       "        vertical-align: top;\n",
       "    }\n",
       "\n",
       "    .dataframe thead th {\n",
       "        text-align: right;\n",
       "    }\n",
       "</style>\n",
       "<table border=\"1\" class=\"dataframe\">\n",
       "  <thead>\n",
       "    <tr style=\"text-align: right;\">\n",
       "      <th></th>\n",
       "      <th>text</th>\n",
       "      <th>score</th>\n",
       "      <th>likecount</th>\n",
       "      <th>clean_text</th>\n",
       "      <th>clean_text_score</th>\n",
       "    </tr>\n",
       "  </thead>\n",
       "  <tbody>\n",
       "  </tbody>\n",
       "</table>\n",
       "</div>"
      ],
      "text/plain": [
       "Empty DataFrame\n",
       "Columns: [text, score, likecount, clean_text, clean_text_score]\n",
       "Index: []"
      ]
     },
     "execution_count": 21,
     "metadata": {},
     "output_type": "execute_result"
    }
   ],
   "source": [
    "pick_up_comments(df_like_ranking,-0.5,50)"
   ]
  },
  {
   "cell_type": "code",
   "execution_count": 22,
   "metadata": {},
   "outputs": [
    {
     "data": {
      "text/html": [
       "<div>\n",
       "<style scoped>\n",
       "    .dataframe tbody tr th:only-of-type {\n",
       "        vertical-align: middle;\n",
       "    }\n",
       "\n",
       "    .dataframe tbody tr th {\n",
       "        vertical-align: top;\n",
       "    }\n",
       "\n",
       "    .dataframe thead th {\n",
       "        text-align: right;\n",
       "    }\n",
       "</style>\n",
       "<table border=\"1\" class=\"dataframe\">\n",
       "  <thead>\n",
       "    <tr style=\"text-align: right;\">\n",
       "      <th></th>\n",
       "      <th>text</th>\n",
       "      <th>score</th>\n",
       "      <th>likecount</th>\n",
       "      <th>clean_text</th>\n",
       "      <th>clean_text_score</th>\n",
       "    </tr>\n",
       "  </thead>\n",
       "  <tbody>\n",
       "  </tbody>\n",
       "</table>\n",
       "</div>"
      ],
      "text/plain": [
       "Empty DataFrame\n",
       "Columns: [text, score, likecount, clean_text, clean_text_score]\n",
       "Index: []"
      ]
     },
     "execution_count": 22,
     "metadata": {},
     "output_type": "execute_result"
    }
   ],
   "source": [
    "pick_up_comments(df_like_ranking,-0.4,50)"
   ]
  },
  {
   "cell_type": "code",
   "execution_count": 23,
   "metadata": {},
   "outputs": [
    {
     "data": {
      "text/html": [
       "<div>\n",
       "<style scoped>\n",
       "    .dataframe tbody tr th:only-of-type {\n",
       "        vertical-align: middle;\n",
       "    }\n",
       "\n",
       "    .dataframe tbody tr th {\n",
       "        vertical-align: top;\n",
       "    }\n",
       "\n",
       "    .dataframe thead th {\n",
       "        text-align: right;\n",
       "    }\n",
       "</style>\n",
       "<table border=\"1\" class=\"dataframe\">\n",
       "  <thead>\n",
       "    <tr style=\"text-align: right;\">\n",
       "      <th></th>\n",
       "      <th>text</th>\n",
       "      <th>score</th>\n",
       "      <th>likecount</th>\n",
       "      <th>clean_text</th>\n",
       "      <th>clean_text_score</th>\n",
       "    </tr>\n",
       "  </thead>\n",
       "  <tbody>\n",
       "  </tbody>\n",
       "</table>\n",
       "</div>"
      ],
      "text/plain": [
       "Empty DataFrame\n",
       "Columns: [text, score, likecount, clean_text, clean_text_score]\n",
       "Index: []"
      ]
     },
     "execution_count": 23,
     "metadata": {},
     "output_type": "execute_result"
    }
   ],
   "source": [
    "pick_up_comments(df_like_ranking,-0.6,20)"
   ]
  },
  {
   "cell_type": "markdown",
   "metadata": {},
   "source": [
    "We can play with the function if we want to see how the comments distribute. "
   ]
  },
  {
   "cell_type": "markdown",
   "metadata": {},
   "source": [
    "For this special case, specific analysis and detailed explanation would be useful for this single one video, so I will leave here ."
   ]
  },
  {
   "cell_type": "markdown",
   "metadata": {},
   "source": [
    "-----"
   ]
  },
  {
   "cell_type": "markdown",
   "metadata": {},
   "source": [
    "One thing I am interested in is the distribution of likecount of certain videos , let's check ."
   ]
  },
  {
   "cell_type": "markdown",
   "metadata": {},
   "source": [
    "# Histogram of the score"
   ]
  },
  {
   "cell_type": "code",
   "execution_count": 24,
   "metadata": {},
   "outputs": [],
   "source": [
    "from scipy.stats import kurtosis\n",
    "doanes = lambda data: int(1 + np.log(len(data)) + np.log(1 +  kurtosis(data) * (len(data)/6.)** 0.5))"
   ]
  },
  {
   "cell_type": "code",
   "execution_count": 25,
   "metadata": {},
   "outputs": [
    {
     "data": {
      "text/plain": [
       "<matplotlib.axes._subplots.AxesSubplot at 0x1193710b8>"
      ]
     },
     "execution_count": 25,
     "metadata": {},
     "output_type": "execute_result"
    },
    {
     "data": {
      "image/png": "[encoded data removed]",
      "text/plain": [
       "<Figure size 432x288 with 1 Axes>"
      ]
     },
     "metadata": {},
     "output_type": "display_data"
    }
   ],
   "source": [
    "df_like_ranking.clean_text_score.hist()"
   ]
  },
  {
   "cell_type": "markdown",
   "metadata": {},
   "source": [
    "# Histogram of the score"
   ]
  },
  {
   "cell_type": "code",
   "execution_count": 26,
   "metadata": {},
   "outputs": [],
   "source": [
    "from scipy.stats import kurtosis\n",
    "doanes = lambda data: int(1 + np.log(len(data)) + np.log(1 +  kurtosis(data) * (len(data)/6.)** 0.5))"
   ]
  },
  {
   "cell_type": "code",
   "execution_count": 27,
   "metadata": {},
   "outputs": [
    {
     "data": {
      "text/plain": [
       "<matplotlib.axes._subplots.AxesSubplot at 0x119229080>"
      ]
     },
     "execution_count": 27,
     "metadata": {},
     "output_type": "execute_result"
    },
    {
     "data": {
      "image/png": "[encoded data removed]",
      "text/plain": [
       "<Figure size 432x288 with 1 Axes>"
      ]
     },
     "metadata": {},
     "output_type": "display_data"
    }
   ],
   "source": [
    "df_like_ranking.likecount.hist(bins = doanes(df_like_ranking[\"likecount\"]))"
   ]
  },
  {
   "cell_type": "markdown",
   "metadata": {},
   "source": [
    "maybe try to plot scatter points betweeen `likecounts` and `clean_text_score`."
   ]
  },
  {
   "cell_type": "code",
   "execution_count": 28,
   "metadata": {},
   "outputs": [
    {
     "name": "stderr",
     "output_type": "stream",
     "text": [
      "/Users/yuhui/anaconda3/lib/python3.6/site-packages/matplotlib/axes/_axes.py:6462: UserWarning:\n",
      "\n",
      "The 'normed' kwarg is deprecated, and has been replaced by the 'density' kwarg.\n",
      "\n"
     ]
    },
    {
     "data": {
      "text/plain": [
       "<seaborn.axisgrid.JointGrid at 0x11a8069b0>"
      ]
     },
     "execution_count": 28,
     "metadata": {},
     "output_type": "execute_result"
    },
    {
     "data": {
      "image/png": "[encoded data removed]",
      "text/plain": [
       "<Figure size 432x432 with 3 Axes>"
      ]
     },
     "metadata": {},
     "output_type": "display_data"
    }
   ],
   "source": [
    "sns.jointplot(x=\"clean_text_score\", y=\"likecount\", data=df_like_ranking)"
   ]
  },
  {
   "cell_type": "code",
   "execution_count": null,
   "metadata": {},
   "outputs": [],
   "source": []
  }
 ],
 "metadata": {
  "kernelspec": {
   "display_name": "Python 3",
   "language": "python",
   "name": "python3"
  },
  "language_info": {
   "codemirror_mode": {
    "name": "ipython",
    "version": 3
   },
   "file_extension": ".py",
   "mimetype": "text/x-python",
   "name": "python",
   "nbconvert_exporter": "python",
   "pygments_lexer": "ipython3",
   "version": "3.6.5"
  }
 },
 "nbformat": 4,
 "nbformat_minor": 2
}
